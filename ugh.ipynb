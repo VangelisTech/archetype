{
 "cells": [
  {
   "cell_type": "code",
   "execution_count": 1,
   "metadata": {},
   "outputs": [],
   "source": [
    "import daft \n",
    "from daft import DataType as DT"
   ]
  },
  {
   "cell_type": "code",
   "execution_count": 3,
   "metadata": {},
   "outputs": [
    {
     "data": {
      "text/html": [
       "<div>\n",
       "<table class=\"dataframe\">\n",
       "<thead><tr><th style=\"text-wrap: nowrap; max-width:192px; overflow:auto; text-align:left\">a<br />Int64</th><th style=\"text-wrap: nowrap; max-width:192px; overflow:auto; text-align:left\">b<br />Utf8</th><th style=\"text-wrap: nowrap; max-width:192px; overflow:auto; text-align:left\">nested<br />Struct[a: Int64, b: Utf8]</th></tr></thead>\n",
       "<tbody>\n",
       "<tr><td><div style=\"text-align:left; max-width:192px; max-height:64px; overflow:auto\">1</div></td><td><div style=\"text-align:left; max-width:192px; max-height:64px; overflow:auto\">x</div></td><td><div style=\"text-align:left; max-width:192px; max-height:64px; overflow:auto\">{a: 1,<br />b: x,<br />}</div></td></tr>\n",
       "<tr><td><div style=\"text-align:left; max-width:192px; max-height:64px; overflow:auto\">2</div></td><td><div style=\"text-align:left; max-width:192px; max-height:64px; overflow:auto\">y</div></td><td><div style=\"text-align:left; max-width:192px; max-height:64px; overflow:auto\">{a: 2,<br />b: y,<br />}</div></td></tr>\n",
       "<tr><td><div style=\"text-align:left; max-width:192px; max-height:64px; overflow:auto\">3</div></td><td><div style=\"text-align:left; max-width:192px; max-height:64px; overflow:auto\">z</div></td><td><div style=\"text-align:left; max-width:192px; max-height:64px; overflow:auto\">{a: 3,<br />b: z,<br />}</div></td></tr>\n",
       "</tbody>\n",
       "</table>\n",
       "<small>(Showing first 3 of 3 rows)</small>\n",
       "</div>"
      ],
      "text/plain": [
       "╭───────┬──────┬───────────────────────────╮\n",
       "│ a     ┆ b    ┆ nested                    │\n",
       "│ ---   ┆ ---  ┆ ---                       │\n",
       "│ Int64 ┆ Utf8 ┆ Struct[a: Int64, b: Utf8] │\n",
       "╞═══════╪══════╪═══════════════════════════╡\n",
       "│ 1     ┆ x    ┆ {a: 1,                    │\n",
       "│       ┆      ┆ b: x,                     │\n",
       "│       ┆      ┆ }                         │\n",
       "├╌╌╌╌╌╌╌┼╌╌╌╌╌╌┼╌╌╌╌╌╌╌╌╌╌╌╌╌╌╌╌╌╌╌╌╌╌╌╌╌╌╌┤\n",
       "│ 2     ┆ y    ┆ {a: 2,                    │\n",
       "│       ┆      ┆ b: y,                     │\n",
       "│       ┆      ┆ }                         │\n",
       "├╌╌╌╌╌╌╌┼╌╌╌╌╌╌┼╌╌╌╌╌╌╌╌╌╌╌╌╌╌╌╌╌╌╌╌╌╌╌╌╌╌╌┤\n",
       "│ 3     ┆ z    ┆ {a: 3,                    │\n",
       "│       ┆      ┆ b: z,                     │\n",
       "│       ┆      ┆ }                         │\n",
       "╰───────┴──────┴───────────────────────────╯\n",
       "\n",
       "(Showing first 3 of 3 rows)"
      ]
     },
     "metadata": {},
     "output_type": "display_data"
    }
   ],
   "source": [
    "import daft\n",
    "from daft import col\n",
    "\n",
    "df = daft.from_pydict({\"a\": [1, 2, 3], \"b\": [\"x\", \"y\", \"z\"]})\n",
    "df = df.with_column(\"nested\", daft.struct(col(\"a\"), col(\"b\")))\n",
    "df.show()\n"
   ]
  },
  {
   "cell_type": "code",
   "execution_count": null,
   "metadata": {},
   "outputs": [
    {
     "ename": "AttributeError",
     "evalue": "'Expression' object has no attribute '_dtype'",
     "output_type": "error",
     "traceback": [
      "\u001b[0;31m---------------------------------------------------------------------------\u001b[0m",
      "\u001b[0;31mAttributeError\u001b[0m                            Traceback (most recent call last)",
      "Cell \u001b[0;32mIn[9], line 1\u001b[0m\n\u001b[0;32m----> 1\u001b[0m df \u001b[38;5;241m=\u001b[39m df\u001b[38;5;241m.\u001b[39mwith_column(\u001b[38;5;124m\"\u001b[39m\u001b[38;5;124mcomponents\u001b[39m\u001b[38;5;124m\"\u001b[39m, \u001b[43mDT\u001b[49m\u001b[38;5;241;43m.\u001b[39;49m\u001b[43mmap\u001b[49m\u001b[43m(\u001b[49m\u001b[43mDT\u001b[49m\u001b[38;5;241;43m.\u001b[39;49m\u001b[43mpython\u001b[49m\u001b[43m(\u001b[49m\u001b[43m)\u001b[49m\u001b[43m,\u001b[49m\u001b[43m \u001b[49m\u001b[43mdaft\u001b[49m\u001b[38;5;241;43m.\u001b[39;49m\u001b[43mstruct\u001b[49m\u001b[43m(\u001b[49m\u001b[43mcol\u001b[49m\u001b[43m(\u001b[49m\u001b[38;5;124;43m\"\u001b[39;49m\u001b[38;5;124;43ma\u001b[39;49m\u001b[38;5;124;43m\"\u001b[39;49m\u001b[43m)\u001b[49m\u001b[43m,\u001b[49m\u001b[43m \u001b[49m\u001b[43mcol\u001b[49m\u001b[43m(\u001b[49m\u001b[38;5;124;43m\"\u001b[39;49m\u001b[38;5;124;43mb\u001b[39;49m\u001b[38;5;124;43m\"\u001b[39;49m\u001b[43m)\u001b[49m\u001b[43m)\u001b[49m\u001b[43m)\u001b[49m)\n\u001b[1;32m      2\u001b[0m df\u001b[38;5;241m.\u001b[39mshow()\n",
      "File \u001b[0;32m~/git/vangelis/internal/work/core/.venv/lib/python3.10/site-packages/daft/datatype.py:269\u001b[0m, in \u001b[0;36mDataType.map\u001b[0;34m(cls, key_type, value_type)\u001b[0m\n\u001b[1;32m    261\u001b[0m \u001b[38;5;129m@classmethod\u001b[39m\n\u001b[1;32m    262\u001b[0m \u001b[38;5;28;01mdef\u001b[39;00m\u001b[38;5;250m \u001b[39m\u001b[38;5;21mmap\u001b[39m(\u001b[38;5;28mcls\u001b[39m, key_type: DataType, value_type: DataType) \u001b[38;5;241m-\u001b[39m\u001b[38;5;241m>\u001b[39m DataType:\n\u001b[1;32m    263\u001b[0m \u001b[38;5;250m    \u001b[39m\u001b[38;5;124;03m\"\"\"Create a Map DataType: A map is a nested type of key-value pairs that is implemented as a list of structs with two fields, key and value.\u001b[39;00m\n\u001b[1;32m    264\u001b[0m \n\u001b[1;32m    265\u001b[0m \u001b[38;5;124;03m    Args:\u001b[39;00m\n\u001b[1;32m    266\u001b[0m \u001b[38;5;124;03m        key_type: DataType of the keys in the map\u001b[39;00m\n\u001b[1;32m    267\u001b[0m \u001b[38;5;124;03m        value_type: DataType of the values in the map\u001b[39;00m\n\u001b[1;32m    268\u001b[0m \u001b[38;5;124;03m    \"\"\"\u001b[39;00m\n\u001b[0;32m--> 269\u001b[0m     \u001b[38;5;28;01mreturn\u001b[39;00m \u001b[38;5;28mcls\u001b[39m\u001b[38;5;241m.\u001b[39m_from_pydatatype(PyDataType\u001b[38;5;241m.\u001b[39mmap(key_type\u001b[38;5;241m.\u001b[39m_dtype, \u001b[43mvalue_type\u001b[49m\u001b[38;5;241;43m.\u001b[39;49m\u001b[43m_dtype\u001b[49m))\n",
      "\u001b[0;31mAttributeError\u001b[0m: 'Expression' object has no attribute '_dtype'"
     ]
    }
   ],
   "source": [
    "df = df.with_column(\"components\", DT.map(DT.python(), col(\"a\"), col(\"b\")))\n",
    "df.show()"
   ]
  },
  {
   "cell_type": "code",
   "execution_count": null,
   "metadata": {},
   "outputs": [],
   "source": []
  }
 ],
 "metadata": {
  "kernelspec": {
   "display_name": ".venv",
   "language": "python",
   "name": "python3"
  },
  "language_info": {
   "codemirror_mode": {
    "name": "ipython",
    "version": 3
   },
   "file_extension": ".py",
   "mimetype": "text/x-python",
   "name": "python",
   "nbconvert_exporter": "python",
   "pygments_lexer": "ipython3",
   "version": "3.10.16"
  }
 },
 "nbformat": 4,
 "nbformat_minor": 2
}
